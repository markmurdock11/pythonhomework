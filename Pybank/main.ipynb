{
 "metadata": {
  "language_info": {
   "codemirror_mode": {
    "name": "ipython",
    "version": 3
   },
   "file_extension": ".py",
   "mimetype": "text/x-python",
   "name": "python",
   "nbconvert_exporter": "python",
   "pygments_lexer": "ipython3",
   "version": "3.8.3-final"
  },
  "orig_nbformat": 2,
  "kernelspec": {
   "name": "python_defaultSpec_1600963033981",
   "display_name": "Python 3.8.3 64-bit (conda)"
  }
 },
 "nbformat": 4,
 "nbformat_minor": 2,
 "cells": [
  {
   "cell_type": "code",
   "execution_count": 53,
   "metadata": {
    "tags": []
   },
   "outputs": [
    {
     "output_type": "stream",
     "name": "stdout",
     "text": "<class '_io.TextIOWrapper'>\n<class '_csv.reader'>\n['Date', 'Profit/Losses', 'Change'] <---- HEADER\n"
    }
   ],
   "source": [
    "# import csv file\n",
    "\n",
    "from pathlib import Path\n",
    "import csv\n",
    "\n",
    "csvpath = Path('../Pybank/pybank.csv')\n",
    "\n",
    "# create lists for three rows (monthly_change doesn't work yet)\n",
    "\n",
    "profit_losses = []\n",
    "date = []\n",
    "monthly_change = []\n",
    "\n",
    "# read csv file and create headers\n",
    "\n",
    "with open( csvpath , 'r') as csvfile:\n",
    "\n",
    "    print(type(csvfile))\n",
    "    \n",
    "    csvreader = csv.reader(csvfile, delimiter = ',')\n",
    "    print(type(csvreader))\n",
    "\n",
    "    header = next(csvreader)\n",
    "    header.append(\"Change\")\n",
    "\n",
    "\n",
    "# prepare columns to be summed\n",
    "\n",
    "    print(f\"{header} <---- HEADER\")\n",
    "\n",
    "    for row in csvreader:\n",
    "\n",
    "        month_year = str(row[0])\n",
    "        date.append(month_year)\n",
    "\n",
    "        ProfitChange = int(row[1])\n",
    "        profit_losses.append(ProfitChange)\n",
    "\n",
    "\n"
   ]
  },
  {
   "cell_type": "code",
   "execution_count": 54,
   "metadata": {
    "tags": []
   },
   "outputs": [
    {
     "output_type": "stream",
     "name": "stdout",
     "text": "Total Months: 86\nTotal Salaries: 38382578\n"
    }
   ],
   "source": [
    "# solving\n",
    "\n",
    "total_months = len(date)\n",
    "print(f\"Total Months: {total_months}\")\n",
    "\n",
    "gross_profit = sum(profit_losses)\n",
    "print(f\"Total Salaries: {gross_profit}\")"
   ]
  },
  {
   "cell_type": "code",
   "execution_count": 29,
   "metadata": {
    "tags": []
   },
   "outputs": [],
   "source": [
    "# definitions ????\n",
    "\n",
    "total_months = 0\n",
    "gross_profit = 0\n",
    "average_change = 0\n",
    "greatest_increase = 0\n",
    "greatest_decrease = 0\n"
   ]
  }
 ]
}